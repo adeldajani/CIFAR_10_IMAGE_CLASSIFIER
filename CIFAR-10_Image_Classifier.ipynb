{
 "cells": [
  {
   "cell_type": "markdown",
   "metadata": {},
   "source": [
    "# Introduction\n",
    "\n",
    "In this project, you will build a neural network of your own design to evaluate the CIFAR-10 dataset.\n",
    "\n",
    "To meet the requirements for this project, you will need to achieve an accuracy greater than 45%. \n",
    "If you want to beat Detectocorp's algorithm, you'll need to achieve an accuracy greater than 70%. \n",
    "(Beating Detectocorp's algorithm is not a requirement for passing this project, but you're encouraged to try!)\n",
    "\n",
    "Some of the benchmark results on CIFAR-10 include:\n",
    "\n",
    "78.9% Accuracy | [Deep Belief Networks; Krizhevsky, 2010](https://www.cs.toronto.edu/~kriz/conv-cifar10-aug2010.pdf)\n",
    "\n",
    "90.6% Accuracy | [Maxout Networks; Goodfellow et al., 2013](https://arxiv.org/pdf/1302.4389.pdf)\n",
    "\n",
    "96.0% Accuracy | [Wide Residual Networks; Zagoruyko et al., 2016](https://arxiv.org/pdf/1605.07146.pdf)\n",
    "\n",
    "99.0% Accuracy | [GPipe; Huang et al., 2018](https://arxiv.org/pdf/1811.06965.pdf)\n",
    "\n",
    "98.5% Accuracy | [Rethinking Recurrent Neural Networks and other Improvements for ImageClassification; Nguyen et al., 2020](https://arxiv.org/pdf/2007.15161.pdf)\n",
    "\n",
    "Research with this dataset is ongoing. Notably, many of these networks are quite large and quite expensive to train. \n",
    "\n",
    "## Imports"
   ]
  },
  {
   "cell_type": "code",
   "execution_count": 1,
   "metadata": {},
   "outputs": [],
   "source": [
    "## This cell contains the essential imports you will need – DO NOT CHANGE THE CONTENTS! ##\n",
    "import torch\n",
    "import torch.nn as nn\n",
    "import torch.nn.functional as F\n",
    "import torch.optim as optim\n",
    "import torchvision\n",
    "import torchvision.transforms as transforms\n",
    "import matplotlib.pyplot as plt\n",
    "import numpy as np"
   ]
  },
  {
   "cell_type": "code",
   "execution_count": 2,
   "metadata": {},
   "outputs": [],
   "source": [
    "from torchvision import datasets, transforms, models"
   ]
  },
  {
   "cell_type": "markdown",
   "metadata": {},
   "source": [
    "## Load the Dataset\n",
    "\n",
    "Specify your transforms as a list first.\n",
    "The transforms module is already loaded as `transforms`.\n",
    "\n",
    "CIFAR-10 is fortunately included in the torchvision module.\n",
    "Then, you can create your dataset using the `CIFAR10` object from `torchvision.datasets` ([the documentation is available here](https://pytorch.org/docs/stable/torchvision/datasets.html#cifar)).\n",
    "Make sure to specify `download=True`! \n",
    "\n",
    "Once your dataset is created, you'll also need to define a `DataLoader` from the `torch.utils.data` module for both the train and the test set."
   ]
  },
  {
   "cell_type": "code",
   "execution_count": 3,
   "metadata": {},
   "outputs": [
    {
     "name": "stdout",
     "output_type": "stream",
     "text": [
      "Files already downloaded and verified\n",
      "Files already downloaded and verified\n"
     ]
    }
   ],
   "source": [
    "from torchvision import datasets, transforms\n",
    "# Define transforms\n",
    "## YOUR CODE HERE ##\n",
    "train_transform = transforms.Compose([transforms.RandomRotation(30),\n",
    "                                     transforms.RandomResizedCrop(32),\n",
    "                                     transforms.RandomHorizontalFlip(),\n",
    "                                     transforms.ToTensor()])\n",
    "                 \n",
    "test_transform = transforms.Compose([transforms.Resize(32),\n",
    "                                    transforms.CenterCrop(32),\n",
    "                                    transforms.ToTensor()])\n",
    "\n",
    "# Create training set and define training dataloader\n",
    "## YOUR CODE HERE ##\n",
    "trainset = datasets.CIFAR10('data', download = True, train = True, transform = train_transform)\n",
    "trainloader = torch.utils.data.DataLoader(trainset, batch_size = 64, shuffle = True)\n",
    "\n",
    "# Create test set and define test dataloader\n",
    "## YOUR CODE HERE ##\n",
    "testset = datasets.CIFAR10('data', download = True, train = False, transform = test_transform)\n",
    "testloader = torch.utils.data.DataLoader(testset, batch_size = 64, shuffle = True)\n",
    "\n",
    "# The 10 classes in the dataset\n",
    "classes = ('plane', 'car', 'bird', 'cat', 'deer', 'dog', 'frog', 'horse', 'ship', 'truck')"
   ]
  },
  {
   "cell_type": "markdown",
   "metadata": {},
   "source": [
    "## Explore the Dataset\n",
    "Using matplotlib, numpy, and torch, explore the dimensions of your data.\n",
    "\n",
    "You can view images using the `show5` function defined below – it takes a data loader as an argument.\n",
    "Remember that normalized images will look really weird to you! You may want to try changing your transforms to view images.\n",
    "Typically using no transforms other than `toTensor()` works well for viewing – but not as well for training your network.\n",
    "If `show5` doesn't work, go back and check your code for creating your data loaders and your training/test sets."
   ]
  },
  {
   "cell_type": "code",
   "execution_count": 4,
   "metadata": {},
   "outputs": [],
   "source": [
    "def show5(img_loader):\n",
    "    dataiter = iter(img_loader)\n",
    "    \n",
    "    batch = next(dataiter)\n",
    "    labels = batch[1][0:5]\n",
    "    images = batch[0][0:5]\n",
    "    for i in range(5):\n",
    "        print(classes[labels[i]])\n",
    "    \n",
    "        image = images[i].numpy()\n",
    "        plt.imshow(np.rot90(image.T, k=3))\n",
    "        plt.show()"
   ]
  },
  {
   "cell_type": "code",
   "execution_count": 5,
   "metadata": {},
   "outputs": [
    {
     "name": "stdout",
     "output_type": "stream",
     "text": [
      "bird\n"
     ]
    },
    {
     "data": {
      "image/png": "[encoded data removed]",
      "text/plain": [
       "<matplotlib.figure.Figure at 0x7f5daae8dd68>"
      ]
     },
     "metadata": {
      "needs_background": "light"
     },
     "output_type": "display_data"
    },
    {
     "name": "stdout",
     "output_type": "stream",
     "text": [
      "truck\n"
     ]
    },
    {
     "data": {
      "image/png": "[encoded data removed]",
      "text/plain": [
       "<matplotlib.figure.Figure at 0x7f5daef08be0>"
      ]
     },
     "metadata": {
      "needs_background": "light"
     },
     "output_type": "display_data"
    },
    {
     "name": "stdout",
     "output_type": "stream",
     "text": [
      "deer\n"
     ]
    },
    {
     "data": {
      "image/png": "[encoded data removed]",
      "text/plain": [
       "<matplotlib.figure.Figure at 0x7f5d44f03438>"
      ]
     },
     "metadata": {
      "needs_background": "light"
     },
     "output_type": "display_data"
    },
    {
     "name": "stdout",
     "output_type": "stream",
     "text": [
      "horse\n"
     ]
    },
    {
     "data": {
      "image/png": "[encoded data removed]",
      "text/plain": [
       "<matplotlib.figure.Figure at 0x7f5d44e6e4a8>"
      ]
     },
     "metadata": {
      "needs_background": "light"
     },
     "output_type": "display_data"
    },
    {
     "name": "stdout",
     "output_type": "stream",
     "text": [
      "frog\n"
     ]
    },
    {
     "data": {
      "image/png": "[encoded data removed]",
      "text/plain": [
       "<matplotlib.figure.Figure at 0x7f5d44e32cf8>"
      ]
     },
     "metadata": {
      "needs_background": "light"
     },
     "output_type": "display_data"
    }
   ],
   "source": [
    "# Explore data\n",
    "## YOUR CODE HERE ##\n",
    "show5(trainloader)"
   ]
  },
  {
   "cell_type": "code",
   "execution_count": 6,
   "metadata": {},
   "outputs": [
    {
     "name": "stdout",
     "output_type": "stream",
     "text": [
      "<class 'torch.Tensor'>\n",
      "torch.Size([64, 3, 32, 32])\n",
      "torch.Size([64])\n"
     ]
    }
   ],
   "source": [
    "dataiter = iter(trainloader)\n",
    "images, labels = dataiter.next()\n",
    "print(type(images))\n",
    "print(images.shape)\n",
    "print(labels.shape)"
   ]
  },
  {
   "cell_type": "markdown",
   "metadata": {},
   "source": [
    "## Build your Neural Network\n",
    "Using the layers in `torch.nn` (which has been imported as `nn`) and the `torch.nn.functional` module (imported as `F`), construct a neural network based on the parameters of the dataset. \n",
    "Feel free to construct a model of any architecture – feedforward, convolutional, or even something more advanced!"
   ]
  },
  {
   "cell_type": "code",
   "execution_count": 4,
   "metadata": {
    "scrolled": true
   },
   "outputs": [
    {
     "name": "stderr",
     "output_type": "stream",
     "text": [
      "Downloading: \"https://download.pytorch.org/models/vgg11_bn-6002323d.pth\" to /root/.torch/models/vgg11_bn-6002323d.pth\n",
      "100%|██████████| 531503671/531503671 [00:04<00:00, 110660395.56it/s]\n"
     ]
    },
    {
     "data": {
      "text/plain": [
       "VGG(\n",
       "  (features): Sequential(\n",
       "    (0): Conv2d(3, 64, kernel_size=(3, 3), stride=(1, 1), padding=(1, 1))\n",
       "    (1): BatchNorm2d(64, eps=1e-05, momentum=0.1, affine=True, track_running_stats=True)\n",
       "    (2): ReLU(inplace)\n",
       "    (3): MaxPool2d(kernel_size=2, stride=2, padding=0, dilation=1, ceil_mode=False)\n",
       "    (4): Conv2d(64, 128, kernel_size=(3, 3), stride=(1, 1), padding=(1, 1))\n",
       "    (5): BatchNorm2d(128, eps=1e-05, momentum=0.1, affine=True, track_running_stats=True)\n",
       "    (6): ReLU(inplace)\n",
       "    (7): MaxPool2d(kernel_size=2, stride=2, padding=0, dilation=1, ceil_mode=False)\n",
       "    (8): Conv2d(128, 256, kernel_size=(3, 3), stride=(1, 1), padding=(1, 1))\n",
       "    (9): BatchNorm2d(256, eps=1e-05, momentum=0.1, affine=True, track_running_stats=True)\n",
       "    (10): ReLU(inplace)\n",
       "    (11): Conv2d(256, 256, kernel_size=(3, 3), stride=(1, 1), padding=(1, 1))\n",
       "    (12): BatchNorm2d(256, eps=1e-05, momentum=0.1, affine=True, track_running_stats=True)\n",
       "    (13): ReLU(inplace)\n",
       "    (14): MaxPool2d(kernel_size=2, stride=2, padding=0, dilation=1, ceil_mode=False)\n",
       "    (15): Conv2d(256, 512, kernel_size=(3, 3), stride=(1, 1), padding=(1, 1))\n",
       "    (16): BatchNorm2d(512, eps=1e-05, momentum=0.1, affine=True, track_running_stats=True)\n",
       "    (17): ReLU(inplace)\n",
       "    (18): Conv2d(512, 512, kernel_size=(3, 3), stride=(1, 1), padding=(1, 1))\n",
       "    (19): BatchNorm2d(512, eps=1e-05, momentum=0.1, affine=True, track_running_stats=True)\n",
       "    (20): ReLU(inplace)\n",
       "    (21): MaxPool2d(kernel_size=2, stride=2, padding=0, dilation=1, ceil_mode=False)\n",
       "    (22): Conv2d(512, 512, kernel_size=(3, 3), stride=(1, 1), padding=(1, 1))\n",
       "    (23): BatchNorm2d(512, eps=1e-05, momentum=0.1, affine=True, track_running_stats=True)\n",
       "    (24): ReLU(inplace)\n",
       "    (25): Conv2d(512, 512, kernel_size=(3, 3), stride=(1, 1), padding=(1, 1))\n",
       "    (26): BatchNorm2d(512, eps=1e-05, momentum=0.1, affine=True, track_running_stats=True)\n",
       "    (27): ReLU(inplace)\n",
       "    (28): MaxPool2d(kernel_size=2, stride=2, padding=0, dilation=1, ceil_mode=False)\n",
       "  )\n",
       "  (classifier): Sequential(\n",
       "    (0): Linear(in_features=25088, out_features=4096, bias=True)\n",
       "    (1): ReLU(inplace)\n",
       "    (2): Dropout(p=0.5)\n",
       "    (3): Linear(in_features=4096, out_features=4096, bias=True)\n",
       "    (4): ReLU(inplace)\n",
       "    (5): Dropout(p=0.5)\n",
       "    (6): Linear(in_features=4096, out_features=1000, bias=True)\n",
       "  )\n",
       ")"
      ]
     },
     "execution_count": 4,
     "metadata": {},
     "output_type": "execute_result"
    }
   ],
   "source": [
    "model = models.vgg11_bn(pretrained = True)\n",
    "model"
   ]
  },
  {
   "cell_type": "code",
   "execution_count": 5,
   "metadata": {},
   "outputs": [],
   "source": [
    "## YOUR CODE HERE ##\n",
    "model.classifier = nn.Sequential(\n",
    "                           nn.Linear(512, 256),\n",
    "                          nn.ReLU(),\n",
    "                        nn.Linear(256, 128),\n",
    "                            nn.ReLU(),\n",
    "                            nn.Linear(128, 32),\n",
    "                            nn.ReLU(),\n",
    "                          nn.Linear(32, 10),\n",
    "                          nn.LogSoftmax(dim=1)\n",
    "                          )\n",
    "    "
   ]
  },
  {
   "cell_type": "markdown",
   "metadata": {},
   "source": [
    "Specify a loss function and an optimizer, and instantiate the model.\n",
    "\n",
    "If you use a less common loss function, please note why you chose that loss function in a comment."
   ]
  },
  {
   "cell_type": "code",
   "execution_count": 6,
   "metadata": {},
   "outputs": [],
   "source": [
    "## YOUR CODE HERE ##\n",
    "#model = classifier()\n",
    "criterion = nn.NLLLoss()\n",
    "optimizer = optim.Adam(model.classifier.parameters(), lr = 0.0003)"
   ]
  },
  {
   "cell_type": "code",
   "execution_count": 7,
   "metadata": {},
   "outputs": [],
   "source": [
    "model.to('cuda');"
   ]
  },
  {
   "cell_type": "markdown",
   "metadata": {},
   "source": [
    "## Running your Neural Network\n",
    "Use whatever method you like to train your neural network, and ensure you record the average loss at each epoch. \n",
    "Don't forget to use `torch.device()` and the `.to()` method for both your model and your data if you are using GPU!\n",
    "\n",
    "If you want to print your loss during each epoch, you can use the `enumerate` function and print the loss after a set number of batches. 250 batches works well for most people!"
   ]
  },
  {
   "cell_type": "code",
   "execution_count": 8,
   "metadata": {
    "scrolled": true
   },
   "outputs": [
    {
     "name": "stdout",
     "output_type": "stream",
     "text": [
      "Epoch 1/100.. Train loss: 2.090.. Test loss: 1.661.. Test accuracy: 0.409\n",
      "Epoch 1/100.. Train loss: 1.796.. Test loss: 1.480.. Test accuracy: 0.481\n",
      "Epoch 1/100.. Train loss: 1.715.. Test loss: 1.429.. Test accuracy: 0.500\n",
      "Epoch 2/100.. Train loss: 1.686.. Test loss: 1.415.. Test accuracy: 0.500\n",
      "Epoch 2/100.. Train loss: 1.674.. Test loss: 1.391.. Test accuracy: 0.517\n",
      "Epoch 2/100.. Train loss: 1.657.. Test loss: 1.355.. Test accuracy: 0.523\n",
      "Epoch 3/100.. Train loss: 1.636.. Test loss: 1.321.. Test accuracy: 0.535\n",
      "Epoch 3/100.. Train loss: 1.629.. Test loss: 1.331.. Test accuracy: 0.536\n",
      "Epoch 3/100.. Train loss: 1.624.. Test loss: 1.323.. Test accuracy: 0.538\n",
      "Epoch 4/100.. Train loss: 1.608.. Test loss: 1.301.. Test accuracy: 0.541\n",
      "Epoch 4/100.. Train loss: 1.613.. Test loss: 1.312.. Test accuracy: 0.546\n",
      "Epoch 4/100.. Train loss: 1.602.. Test loss: 1.268.. Test accuracy: 0.551\n",
      "Epoch 5/100.. Train loss: 1.592.. Test loss: 1.281.. Test accuracy: 0.539\n",
      "Epoch 5/100.. Train loss: 1.584.. Test loss: 1.287.. Test accuracy: 0.543\n",
      "Epoch 5/100.. Train loss: 1.576.. Test loss: 1.259.. Test accuracy: 0.553\n",
      "Epoch 6/100.. Train loss: 1.554.. Test loss: 1.260.. Test accuracy: 0.559\n",
      "Epoch 6/100.. Train loss: 1.583.. Test loss: 1.249.. Test accuracy: 0.559\n",
      "Epoch 6/100.. Train loss: 1.562.. Test loss: 1.243.. Test accuracy: 0.562\n",
      "Epoch 7/100.. Train loss: 1.566.. Test loss: 1.243.. Test accuracy: 0.561\n",
      "Epoch 7/100.. Train loss: 1.555.. Test loss: 1.238.. Test accuracy: 0.560\n",
      "Epoch 7/100.. Train loss: 1.549.. Test loss: 1.223.. Test accuracy: 0.564\n",
      "Epoch 8/100.. Train loss: 1.543.. Test loss: 1.239.. Test accuracy: 0.560\n",
      "Epoch 8/100.. Train loss: 1.552.. Test loss: 1.229.. Test accuracy: 0.564\n",
      "Epoch 8/100.. Train loss: 1.538.. Test loss: 1.227.. Test accuracy: 0.571\n",
      "Epoch 8/100.. Train loss: 1.520.. Test loss: 1.206.. Test accuracy: 0.575\n",
      "Epoch 9/100.. Train loss: 1.532.. Test loss: 1.226.. Test accuracy: 0.566\n",
      "Epoch 9/100.. Train loss: 1.537.. Test loss: 1.227.. Test accuracy: 0.568\n",
      "Epoch 9/100.. Train loss: 1.528.. Test loss: 1.207.. Test accuracy: 0.575\n",
      "Epoch 10/100.. Train loss: 1.524.. Test loss: 1.203.. Test accuracy: 0.577\n",
      "Epoch 10/100.. Train loss: 1.529.. Test loss: 1.179.. Test accuracy: 0.586\n",
      "Epoch 10/100.. Train loss: 1.518.. Test loss: 1.222.. Test accuracy: 0.569\n",
      "Epoch 11/100.. Train loss: 1.512.. Test loss: 1.185.. Test accuracy: 0.582\n",
      "Epoch 11/100.. Train loss: 1.512.. Test loss: 1.202.. Test accuracy: 0.575\n",
      "Epoch 11/100.. Train loss: 1.506.. Test loss: 1.192.. Test accuracy: 0.580\n",
      "Epoch 12/100.. Train loss: 1.501.. Test loss: 1.240.. Test accuracy: 0.572\n",
      "Epoch 12/100.. Train loss: 1.513.. Test loss: 1.203.. Test accuracy: 0.576\n",
      "Epoch 12/100.. Train loss: 1.509.. Test loss: 1.210.. Test accuracy: 0.577\n",
      "Epoch 13/100.. Train loss: 1.510.. Test loss: 1.210.. Test accuracy: 0.572\n",
      "Epoch 13/100.. Train loss: 1.509.. Test loss: 1.175.. Test accuracy: 0.588\n",
      "Epoch 13/100.. Train loss: 1.506.. Test loss: 1.195.. Test accuracy: 0.578\n",
      "Epoch 14/100.. Train loss: 1.505.. Test loss: 1.183.. Test accuracy: 0.585\n",
      "Epoch 14/100.. Train loss: 1.509.. Test loss: 1.178.. Test accuracy: 0.583\n",
      "Epoch 14/100.. Train loss: 1.500.. Test loss: 1.177.. Test accuracy: 0.587\n",
      "Epoch 15/100.. Train loss: 1.500.. Test loss: 1.180.. Test accuracy: 0.588\n",
      "Epoch 15/100.. Train loss: 1.490.. Test loss: 1.170.. Test accuracy: 0.590\n",
      "Epoch 15/100.. Train loss: 1.496.. Test loss: 1.159.. Test accuracy: 0.591\n",
      "Epoch 16/100.. Train loss: 1.493.. Test loss: 1.173.. Test accuracy: 0.590\n",
      "Epoch 16/100.. Train loss: 1.490.. Test loss: 1.158.. Test accuracy: 0.594\n",
      "Epoch 16/100.. Train loss: 1.496.. Test loss: 1.181.. Test accuracy: 0.592\n",
      "Epoch 16/100.. Train loss: 1.480.. Test loss: 1.163.. Test accuracy: 0.590\n",
      "Epoch 17/100.. Train loss: 1.479.. Test loss: 1.164.. Test accuracy: 0.592\n",
      "Epoch 17/100.. Train loss: 1.481.. Test loss: 1.182.. Test accuracy: 0.587\n",
      "Epoch 17/100.. Train loss: 1.486.. Test loss: 1.169.. Test accuracy: 0.587\n",
      "Epoch 18/100.. Train loss: 1.473.. Test loss: 1.163.. Test accuracy: 0.593\n",
      "Epoch 18/100.. Train loss: 1.479.. Test loss: 1.168.. Test accuracy: 0.589\n",
      "Epoch 18/100.. Train loss: 1.476.. Test loss: 1.158.. Test accuracy: 0.593\n",
      "Epoch 19/100.. Train loss: 1.474.. Test loss: 1.161.. Test accuracy: 0.591\n",
      "Epoch 19/100.. Train loss: 1.470.. Test loss: 1.158.. Test accuracy: 0.591\n",
      "Epoch 19/100.. Train loss: 1.484.. Test loss: 1.151.. Test accuracy: 0.595\n",
      "Epoch 20/100.. Train loss: 1.481.. Test loss: 1.140.. Test accuracy: 0.600\n",
      "Epoch 20/100.. Train loss: 1.455.. Test loss: 1.154.. Test accuracy: 0.599\n",
      "Epoch 20/100.. Train loss: 1.474.. Test loss: 1.162.. Test accuracy: 0.590\n",
      "Epoch 21/100.. Train loss: 1.457.. Test loss: 1.158.. Test accuracy: 0.596\n",
      "Epoch 21/100.. Train loss: 1.468.. Test loss: 1.134.. Test accuracy: 0.601\n",
      "Epoch 21/100.. Train loss: 1.450.. Test loss: 1.136.. Test accuracy: 0.603\n",
      "Epoch 22/100.. Train loss: 1.461.. Test loss: 1.151.. Test accuracy: 0.599\n",
      "Epoch 22/100.. Train loss: 1.467.. Test loss: 1.173.. Test accuracy: 0.592\n",
      "Epoch 22/100.. Train loss: 1.465.. Test loss: 1.131.. Test accuracy: 0.603\n",
      "Epoch 23/100.. Train loss: 1.459.. Test loss: 1.130.. Test accuracy: 0.602\n",
      "Epoch 23/100.. Train loss: 1.473.. Test loss: 1.145.. Test accuracy: 0.599\n",
      "Epoch 23/100.. Train loss: 1.452.. Test loss: 1.142.. Test accuracy: 0.600\n",
      "Epoch 24/100.. Train loss: 1.467.. Test loss: 1.132.. Test accuracy: 0.604\n",
      "Epoch 24/100.. Train loss: 1.450.. Test loss: 1.124.. Test accuracy: 0.608\n",
      "Epoch 24/100.. Train loss: 1.449.. Test loss: 1.158.. Test accuracy: 0.595\n",
      "Epoch 24/100.. Train loss: 1.462.. Test loss: 1.143.. Test accuracy: 0.599\n",
      "Epoch 25/100.. Train loss: 1.449.. Test loss: 1.136.. Test accuracy: 0.602\n",
      "Epoch 25/100.. Train loss: 1.448.. Test loss: 1.132.. Test accuracy: 0.604\n",
      "Epoch 25/100.. Train loss: 1.462.. Test loss: 1.145.. Test accuracy: 0.600\n",
      "Epoch 26/100.. Train loss: 1.443.. Test loss: 1.138.. Test accuracy: 0.601\n",
      "Epoch 26/100.. Train loss: 1.460.. Test loss: 1.164.. Test accuracy: 0.594\n",
      "Epoch 26/100.. Train loss: 1.463.. Test loss: 1.153.. Test accuracy: 0.595\n",
      "Epoch 27/100.. Train loss: 1.441.. Test loss: 1.152.. Test accuracy: 0.597\n",
      "Epoch 27/100.. Train loss: 1.445.. Test loss: 1.140.. Test accuracy: 0.603\n",
      "Epoch 27/100.. Train loss: 1.439.. Test loss: 1.132.. Test accuracy: 0.605\n",
      "Epoch 28/100.. Train loss: 1.448.. Test loss: 1.130.. Test accuracy: 0.603\n",
      "Epoch 28/100.. Train loss: 1.441.. Test loss: 1.137.. Test accuracy: 0.604\n",
      "Epoch 28/100.. Train loss: 1.472.. Test loss: 1.114.. Test accuracy: 0.608\n",
      "Epoch 29/100.. Train loss: 1.441.. Test loss: 1.116.. Test accuracy: 0.611\n",
      "Epoch 29/100.. Train loss: 1.448.. Test loss: 1.118.. Test accuracy: 0.604\n",
      "Epoch 29/100.. Train loss: 1.448.. Test loss: 1.128.. Test accuracy: 0.604\n",
      "Epoch 30/100.. Train loss: 1.441.. Test loss: 1.118.. Test accuracy: 0.610\n",
      "Epoch 30/100.. Train loss: 1.442.. Test loss: 1.105.. Test accuracy: 0.614\n",
      "Epoch 30/100.. Train loss: 1.436.. Test loss: 1.116.. Test accuracy: 0.611\n",
      "Epoch 31/100.. Train loss: 1.440.. Test loss: 1.123.. Test accuracy: 0.609\n",
      "Epoch 31/100.. Train loss: 1.440.. Test loss: 1.128.. Test accuracy: 0.607\n",
      "Epoch 31/100.. Train loss: 1.440.. Test loss: 1.123.. Test accuracy: 0.607\n",
      "Epoch 32/100.. Train loss: 1.438.. Test loss: 1.118.. Test accuracy: 0.612\n",
      "Epoch 32/100.. Train loss: 1.438.. Test loss: 1.103.. Test accuracy: 0.619\n",
      "Epoch 32/100.. Train loss: 1.448.. Test loss: 1.116.. Test accuracy: 0.614\n",
      "Epoch 32/100.. Train loss: 1.436.. Test loss: 1.112.. Test accuracy: 0.611\n",
      "Epoch 33/100.. Train loss: 1.434.. Test loss: 1.136.. Test accuracy: 0.607\n",
      "Epoch 33/100.. Train loss: 1.436.. Test loss: 1.128.. Test accuracy: 0.612\n",
      "Epoch 33/100.. Train loss: 1.430.. Test loss: 1.107.. Test accuracy: 0.611\n",
      "Epoch 34/100.. Train loss: 1.447.. Test loss: 1.120.. Test accuracy: 0.605\n",
      "Epoch 34/100.. Train loss: 1.419.. Test loss: 1.112.. Test accuracy: 0.612\n",
      "Epoch 34/100.. Train loss: 1.431.. Test loss: 1.135.. Test accuracy: 0.604\n",
      "Epoch 35/100.. Train loss: 1.432.. Test loss: 1.131.. Test accuracy: 0.606\n",
      "Epoch 35/100.. Train loss: 1.415.. Test loss: 1.102.. Test accuracy: 0.616\n",
      "Epoch 35/100.. Train loss: 1.443.. Test loss: 1.124.. Test accuracy: 0.610\n",
      "Epoch 36/100.. Train loss: 1.420.. Test loss: 1.112.. Test accuracy: 0.615\n",
      "Epoch 36/100.. Train loss: 1.438.. Test loss: 1.137.. Test accuracy: 0.609\n",
      "Epoch 36/100.. Train loss: 1.431.. Test loss: 1.093.. Test accuracy: 0.624\n",
      "Epoch 37/100.. Train loss: 1.438.. Test loss: 1.119.. Test accuracy: 0.614\n",
      "Epoch 37/100.. Train loss: 1.435.. Test loss: 1.124.. Test accuracy: 0.610\n",
      "Epoch 37/100.. Train loss: 1.437.. Test loss: 1.112.. Test accuracy: 0.613\n",
      "Epoch 38/100.. Train loss: 1.418.. Test loss: 1.118.. Test accuracy: 0.610\n",
      "Epoch 38/100.. Train loss: 1.420.. Test loss: 1.116.. Test accuracy: 0.611\n",
      "Epoch 38/100.. Train loss: 1.422.. Test loss: 1.098.. Test accuracy: 0.618\n",
      "Epoch 39/100.. Train loss: 1.422.. Test loss: 1.106.. Test accuracy: 0.613\n",
      "Epoch 39/100.. Train loss: 1.427.. Test loss: 1.094.. Test accuracy: 0.617\n",
      "Epoch 39/100.. Train loss: 1.427.. Test loss: 1.089.. Test accuracy: 0.621\n",
      "Epoch 40/100.. Train loss: 1.417.. Test loss: 1.099.. Test accuracy: 0.617\n",
      "Epoch 40/100.. Train loss: 1.425.. Test loss: 1.118.. Test accuracy: 0.604\n",
      "Epoch 40/100.. Train loss: 1.426.. Test loss: 1.093.. Test accuracy: 0.617\n",
      "Epoch 40/100.. Train loss: 1.431.. Test loss: 1.090.. Test accuracy: 0.618\n",
      "Epoch 41/100.. Train loss: 1.425.. Test loss: 1.087.. Test accuracy: 0.622\n",
      "Epoch 41/100.. Train loss: 1.424.. Test loss: 1.095.. Test accuracy: 0.615\n",
      "Epoch 41/100.. Train loss: 1.422.. Test loss: 1.151.. Test accuracy: 0.603\n",
      "Epoch 42/100.. Train loss: 1.408.. Test loss: 1.118.. Test accuracy: 0.617\n",
      "Epoch 42/100.. Train loss: 1.421.. Test loss: 1.106.. Test accuracy: 0.616\n",
      "Epoch 42/100.. Train loss: 1.422.. Test loss: 1.107.. Test accuracy: 0.614\n",
      "Epoch 43/100.. Train loss: 1.431.. Test loss: 1.107.. Test accuracy: 0.612\n",
      "Epoch 43/100.. Train loss: 1.422.. Test loss: 1.096.. Test accuracy: 0.616\n",
      "Epoch 43/100.. Train loss: 1.419.. Test loss: 1.107.. Test accuracy: 0.612\n",
      "Epoch 44/100.. Train loss: 1.413.. Test loss: 1.091.. Test accuracy: 0.619\n",
      "Epoch 44/100.. Train loss: 1.427.. Test loss: 1.116.. Test accuracy: 0.612\n",
      "Epoch 44/100.. Train loss: 1.414.. Test loss: 1.110.. Test accuracy: 0.613\n",
      "Epoch 45/100.. Train loss: 1.418.. Test loss: 1.100.. Test accuracy: 0.622\n",
      "Epoch 45/100.. Train loss: 1.422.. Test loss: 1.086.. Test accuracy: 0.624\n",
      "Epoch 45/100.. Train loss: 1.422.. Test loss: 1.112.. Test accuracy: 0.618\n",
      "Epoch 46/100.. Train loss: 1.419.. Test loss: 1.086.. Test accuracy: 0.622\n",
      "Epoch 46/100.. Train loss: 1.415.. Test loss: 1.092.. Test accuracy: 0.618\n",
      "Epoch 46/100.. Train loss: 1.408.. Test loss: 1.108.. Test accuracy: 0.616\n",
      "Epoch 47/100.. Train loss: 1.408.. Test loss: 1.095.. Test accuracy: 0.618\n",
      "Epoch 47/100.. Train loss: 1.415.. Test loss: 1.119.. Test accuracy: 0.611\n",
      "Epoch 47/100.. Train loss: 1.421.. Test loss: 1.104.. Test accuracy: 0.613\n",
      "Epoch 47/100.. Train loss: 1.404.. Test loss: 1.096.. Test accuracy: 0.618\n",
      "Epoch 48/100.. Train loss: 1.406.. Test loss: 1.109.. Test accuracy: 0.614\n",
      "Epoch 48/100.. Train loss: 1.404.. Test loss: 1.112.. Test accuracy: 0.611\n",
      "Epoch 48/100.. Train loss: 1.417.. Test loss: 1.090.. Test accuracy: 0.621\n",
      "Epoch 49/100.. Train loss: 1.401.. Test loss: 1.083.. Test accuracy: 0.619\n",
      "Epoch 49/100.. Train loss: 1.417.. Test loss: 1.114.. Test accuracy: 0.610\n",
      "Epoch 49/100.. Train loss: 1.399.. Test loss: 1.090.. Test accuracy: 0.624\n",
      "Epoch 50/100.. Train loss: 1.402.. Test loss: 1.112.. Test accuracy: 0.615\n",
      "Epoch 50/100.. Train loss: 1.394.. Test loss: 1.101.. Test accuracy: 0.619\n",
      "Epoch 50/100.. Train loss: 1.414.. Test loss: 1.091.. Test accuracy: 0.620\n",
      "Epoch 51/100.. Train loss: 1.410.. Test loss: 1.102.. Test accuracy: 0.615\n",
      "Epoch 51/100.. Train loss: 1.406.. Test loss: 1.098.. Test accuracy: 0.619\n",
      "Epoch 51/100.. Train loss: 1.409.. Test loss: 1.087.. Test accuracy: 0.620\n",
      "Epoch 52/100.. Train loss: 1.399.. Test loss: 1.098.. Test accuracy: 0.619\n",
      "Epoch 52/100.. Train loss: 1.413.. Test loss: 1.104.. Test accuracy: 0.616\n",
      "Epoch 52/100.. Train loss: 1.398.. Test loss: 1.102.. Test accuracy: 0.621\n",
      "Epoch 53/100.. Train loss: 1.404.. Test loss: 1.095.. Test accuracy: 0.617\n",
      "Epoch 53/100.. Train loss: 1.412.. Test loss: 1.094.. Test accuracy: 0.622\n",
      "Epoch 53/100.. Train loss: 1.404.. Test loss: 1.090.. Test accuracy: 0.622\n",
      "Epoch 54/100.. Train loss: 1.403.. Test loss: 1.085.. Test accuracy: 0.624\n",
      "Epoch 54/100.. Train loss: 1.394.. Test loss: 1.126.. Test accuracy: 0.612\n",
      "Epoch 54/100.. Train loss: 1.400.. Test loss: 1.124.. Test accuracy: 0.609\n",
      "Epoch 55/100.. Train loss: 1.398.. Test loss: 1.095.. Test accuracy: 0.617\n",
      "Epoch 55/100.. Train loss: 1.410.. Test loss: 1.085.. Test accuracy: 0.618\n",
      "Epoch 55/100.. Train loss: 1.409.. Test loss: 1.123.. Test accuracy: 0.612\n",
      "Epoch 55/100.. Train loss: 1.413.. Test loss: 1.087.. Test accuracy: 0.618\n",
      "Epoch 56/100.. Train loss: 1.409.. Test loss: 1.095.. Test accuracy: 0.617\n",
      "Epoch 56/100.. Train loss: 1.398.. Test loss: 1.106.. Test accuracy: 0.617\n",
      "Epoch 56/100.. Train loss: 1.417.. Test loss: 1.083.. Test accuracy: 0.622\n",
      "Epoch 57/100.. Train loss: 1.405.. Test loss: 1.097.. Test accuracy: 0.620\n",
      "Epoch 57/100.. Train loss: 1.407.. Test loss: 1.098.. Test accuracy: 0.618\n",
      "Epoch 57/100.. Train loss: 1.418.. Test loss: 1.105.. Test accuracy: 0.614\n",
      "Epoch 58/100.. Train loss: 1.390.. Test loss: 1.121.. Test accuracy: 0.613\n",
      "Epoch 58/100.. Train loss: 1.403.. Test loss: 1.095.. Test accuracy: 0.617\n",
      "Epoch 58/100.. Train loss: 1.418.. Test loss: 1.091.. Test accuracy: 0.619\n",
      "Epoch 59/100.. Train loss: 1.407.. Test loss: 1.097.. Test accuracy: 0.614\n",
      "Epoch 59/100.. Train loss: 1.408.. Test loss: 1.094.. Test accuracy: 0.614\n",
      "Epoch 59/100.. Train loss: 1.402.. Test loss: 1.088.. Test accuracy: 0.622\n",
      "Epoch 60/100.. Train loss: 1.392.. Test loss: 1.075.. Test accuracy: 0.624\n",
      "Epoch 60/100.. Train loss: 1.405.. Test loss: 1.089.. Test accuracy: 0.623\n",
      "Epoch 60/100.. Train loss: 1.408.. Test loss: 1.103.. Test accuracy: 0.617\n",
      "Epoch 61/100.. Train loss: 1.401.. Test loss: 1.112.. Test accuracy: 0.611\n",
      "Epoch 61/100.. Train loss: 1.407.. Test loss: 1.110.. Test accuracy: 0.615\n",
      "Epoch 61/100.. Train loss: 1.393.. Test loss: 1.093.. Test accuracy: 0.616\n",
      "Epoch 62/100.. Train loss: 1.397.. Test loss: 1.102.. Test accuracy: 0.616\n",
      "Epoch 62/100.. Train loss: 1.394.. Test loss: 1.118.. Test accuracy: 0.612\n",
      "Epoch 62/100.. Train loss: 1.398.. Test loss: 1.102.. Test accuracy: 0.618\n",
      "Epoch 63/100.. Train loss: 1.395.. Test loss: 1.071.. Test accuracy: 0.626\n",
      "Epoch 63/100.. Train loss: 1.385.. Test loss: 1.091.. Test accuracy: 0.618\n",
      "Epoch 63/100.. Train loss: 1.396.. Test loss: 1.101.. Test accuracy: 0.618\n",
      "Epoch 63/100.. Train loss: 1.405.. Test loss: 1.113.. Test accuracy: 0.613\n",
      "Epoch 64/100.. Train loss: 1.388.. Test loss: 1.088.. Test accuracy: 0.620\n",
      "Epoch 64/100.. Train loss: 1.384.. Test loss: 1.124.. Test accuracy: 0.610\n",
      "Epoch 64/100.. Train loss: 1.397.. Test loss: 1.101.. Test accuracy: 0.617\n",
      "Epoch 65/100.. Train loss: 1.399.. Test loss: 1.092.. Test accuracy: 0.619\n",
      "Epoch 65/100.. Train loss: 1.402.. Test loss: 1.096.. Test accuracy: 0.618\n",
      "Epoch 65/100.. Train loss: 1.402.. Test loss: 1.074.. Test accuracy: 0.621\n",
      "Epoch 66/100.. Train loss: 1.393.. Test loss: 1.103.. Test accuracy: 0.612\n",
      "Epoch 66/100.. Train loss: 1.405.. Test loss: 1.093.. Test accuracy: 0.617\n",
      "Epoch 66/100.. Train loss: 1.402.. Test loss: 1.083.. Test accuracy: 0.625\n",
      "Epoch 67/100.. Train loss: 1.394.. Test loss: 1.090.. Test accuracy: 0.619\n",
      "Epoch 67/100.. Train loss: 1.404.. Test loss: 1.109.. Test accuracy: 0.614\n",
      "Epoch 67/100.. Train loss: 1.395.. Test loss: 1.093.. Test accuracy: 0.618\n",
      "Epoch 68/100.. Train loss: 1.395.. Test loss: 1.078.. Test accuracy: 0.621\n",
      "Epoch 68/100.. Train loss: 1.396.. Test loss: 1.103.. Test accuracy: 0.614\n",
      "Epoch 68/100.. Train loss: 1.389.. Test loss: 1.088.. Test accuracy: 0.624\n",
      "Epoch 69/100.. Train loss: 1.408.. Test loss: 1.099.. Test accuracy: 0.616\n",
      "Epoch 69/100.. Train loss: 1.381.. Test loss: 1.091.. Test accuracy: 0.627\n",
      "Epoch 69/100.. Train loss: 1.392.. Test loss: 1.084.. Test accuracy: 0.621\n",
      "Epoch 70/100.. Train loss: 1.390.. Test loss: 1.090.. Test accuracy: 0.625\n",
      "Epoch 70/100.. Train loss: 1.392.. Test loss: 1.093.. Test accuracy: 0.622\n",
      "Epoch 70/100.. Train loss: 1.381.. Test loss: 1.101.. Test accuracy: 0.617\n",
      "Epoch 71/100.. Train loss: 1.397.. Test loss: 1.071.. Test accuracy: 0.627\n",
      "Epoch 71/100.. Train loss: 1.391.. Test loss: 1.082.. Test accuracy: 0.629\n",
      "Epoch 71/100.. Train loss: 1.396.. Test loss: 1.088.. Test accuracy: 0.620\n",
      "Epoch 71/100.. Train loss: 1.393.. Test loss: 1.092.. Test accuracy: 0.618\n",
      "Epoch 72/100.. Train loss: 1.398.. Test loss: 1.098.. Test accuracy: 0.619\n",
      "Epoch 72/100.. Train loss: 1.403.. Test loss: 1.099.. Test accuracy: 0.616\n",
      "Epoch 72/100.. Train loss: 1.385.. Test loss: 1.092.. Test accuracy: 0.625\n",
      "Epoch 73/100.. Train loss: 1.407.. Test loss: 1.082.. Test accuracy: 0.624\n",
      "Epoch 73/100.. Train loss: 1.393.. Test loss: 1.084.. Test accuracy: 0.623\n",
      "Epoch 73/100.. Train loss: 1.395.. Test loss: 1.088.. Test accuracy: 0.627\n",
      "Epoch 74/100.. Train loss: 1.385.. Test loss: 1.087.. Test accuracy: 0.623\n",
      "Epoch 74/100.. Train loss: 1.389.. Test loss: 1.086.. Test accuracy: 0.621\n",
      "Epoch 74/100.. Train loss: 1.398.. Test loss: 1.079.. Test accuracy: 0.627\n",
      "Epoch 75/100.. Train loss: 1.388.. Test loss: 1.095.. Test accuracy: 0.620\n",
      "Epoch 75/100.. Train loss: 1.413.. Test loss: 1.077.. Test accuracy: 0.627\n",
      "Epoch 75/100.. Train loss: 1.398.. Test loss: 1.094.. Test accuracy: 0.618\n",
      "Epoch 76/100.. Train loss: 1.406.. Test loss: 1.061.. Test accuracy: 0.632\n",
      "Epoch 76/100.. Train loss: 1.389.. Test loss: 1.090.. Test accuracy: 0.625\n",
      "Epoch 76/100.. Train loss: 1.389.. Test loss: 1.087.. Test accuracy: 0.622\n",
      "Epoch 77/100.. Train loss: 1.393.. Test loss: 1.092.. Test accuracy: 0.619\n",
      "Epoch 77/100.. Train loss: 1.403.. Test loss: 1.090.. Test accuracy: 0.623\n",
      "Epoch 77/100.. Train loss: 1.385.. Test loss: 1.096.. Test accuracy: 0.620\n",
      "Epoch 78/100.. Train loss: 1.390.. Test loss: 1.084.. Test accuracy: 0.626\n",
      "Epoch 78/100.. Train loss: 1.388.. Test loss: 1.072.. Test accuracy: 0.630\n",
      "Epoch 78/100.. Train loss: 1.370.. Test loss: 1.085.. Test accuracy: 0.624\n",
      "Epoch 79/100.. Train loss: 1.406.. Test loss: 1.086.. Test accuracy: 0.632\n",
      "Epoch 79/100.. Train loss: 1.388.. Test loss: 1.095.. Test accuracy: 0.618\n",
      "Epoch 79/100.. Train loss: 1.403.. Test loss: 1.069.. Test accuracy: 0.628\n",
      "Epoch 79/100.. Train loss: 1.393.. Test loss: 1.077.. Test accuracy: 0.627\n",
      "Epoch 80/100.. Train loss: 1.375.. Test loss: 1.072.. Test accuracy: 0.625\n",
      "Epoch 80/100.. Train loss: 1.390.. Test loss: 1.091.. Test accuracy: 0.620\n",
      "Epoch 80/100.. Train loss: 1.388.. Test loss: 1.070.. Test accuracy: 0.626\n",
      "Epoch 81/100.. Train loss: 1.373.. Test loss: 1.086.. Test accuracy: 0.621\n",
      "Epoch 81/100.. Train loss: 1.389.. Test loss: 1.091.. Test accuracy: 0.623\n",
      "Epoch 81/100.. Train loss: 1.390.. Test loss: 1.084.. Test accuracy: 0.625\n",
      "Epoch 82/100.. Train loss: 1.371.. Test loss: 1.080.. Test accuracy: 0.626\n",
      "Epoch 82/100.. Train loss: 1.394.. Test loss: 1.108.. Test accuracy: 0.613\n",
      "Epoch 82/100.. Train loss: 1.407.. Test loss: 1.057.. Test accuracy: 0.634\n",
      "Epoch 83/100.. Train loss: 1.388.. Test loss: 1.078.. Test accuracy: 0.625\n",
      "Epoch 83/100.. Train loss: 1.380.. Test loss: 1.092.. Test accuracy: 0.622\n",
      "Epoch 83/100.. Train loss: 1.384.. Test loss: 1.073.. Test accuracy: 0.623\n",
      "Epoch 84/100.. Train loss: 1.399.. Test loss: 1.077.. Test accuracy: 0.624\n",
      "Epoch 84/100.. Train loss: 1.376.. Test loss: 1.093.. Test accuracy: 0.619\n",
      "Epoch 84/100.. Train loss: 1.399.. Test loss: 1.085.. Test accuracy: 0.621\n",
      "Epoch 85/100.. Train loss: 1.384.. Test loss: 1.072.. Test accuracy: 0.626\n",
      "Epoch 85/100.. Train loss: 1.379.. Test loss: 1.084.. Test accuracy: 0.620\n",
      "Epoch 85/100.. Train loss: 1.390.. Test loss: 1.086.. Test accuracy: 0.624\n",
      "Epoch 86/100.. Train loss: 1.380.. Test loss: 1.096.. Test accuracy: 0.620\n",
      "Epoch 86/100.. Train loss: 1.387.. Test loss: 1.068.. Test accuracy: 0.630\n",
      "Epoch 86/100.. Train loss: 1.391.. Test loss: 1.080.. Test accuracy: 0.624\n",
      "Epoch 86/100.. Train loss: 1.380.. Test loss: 1.091.. Test accuracy: 0.626\n",
      "Epoch 87/100.. Train loss: 1.384.. Test loss: 1.097.. Test accuracy: 0.616\n",
      "Epoch 87/100.. Train loss: 1.380.. Test loss: 1.068.. Test accuracy: 0.627\n",
      "Epoch 87/100.. Train loss: 1.377.. Test loss: 1.080.. Test accuracy: 0.622\n",
      "Epoch 88/100.. Train loss: 1.378.. Test loss: 1.086.. Test accuracy: 0.623\n",
      "Epoch 88/100.. Train loss: 1.393.. Test loss: 1.075.. Test accuracy: 0.625\n",
      "Epoch 88/100.. Train loss: 1.381.. Test loss: 1.067.. Test accuracy: 0.628\n",
      "Epoch 89/100.. Train loss: 1.382.. Test loss: 1.083.. Test accuracy: 0.624\n",
      "Epoch 89/100.. Train loss: 1.386.. Test loss: 1.076.. Test accuracy: 0.624\n",
      "Epoch 89/100.. Train loss: 1.394.. Test loss: 1.083.. Test accuracy: 0.619\n",
      "Epoch 90/100.. Train loss: 1.378.. Test loss: 1.066.. Test accuracy: 0.632\n",
      "Epoch 90/100.. Train loss: 1.390.. Test loss: 1.084.. Test accuracy: 0.619\n",
      "Epoch 90/100.. Train loss: 1.385.. Test loss: 1.097.. Test accuracy: 0.618\n",
      "Epoch 91/100.. Train loss: 1.377.. Test loss: 1.072.. Test accuracy: 0.629\n",
      "Epoch 91/100.. Train loss: 1.381.. Test loss: 1.071.. Test accuracy: 0.631\n",
      "Epoch 91/100.. Train loss: 1.379.. Test loss: 1.095.. Test accuracy: 0.622\n",
      "Epoch 92/100.. Train loss: 1.373.. Test loss: 1.077.. Test accuracy: 0.625\n",
      "Epoch 92/100.. Train loss: 1.378.. Test loss: 1.072.. Test accuracy: 0.630\n",
      "Epoch 92/100.. Train loss: 1.392.. Test loss: 1.062.. Test accuracy: 0.631\n",
      "Epoch 93/100.. Train loss: 1.386.. Test loss: 1.061.. Test accuracy: 0.627\n",
      "Epoch 93/100.. Train loss: 1.380.. Test loss: 1.082.. Test accuracy: 0.625\n",
      "Epoch 93/100.. Train loss: 1.392.. Test loss: 1.069.. Test accuracy: 0.628\n",
      "Epoch 94/100.. Train loss: 1.388.. Test loss: 1.085.. Test accuracy: 0.623\n",
      "Epoch 94/100.. Train loss: 1.380.. Test loss: 1.102.. Test accuracy: 0.613\n",
      "Epoch 94/100.. Train loss: 1.379.. Test loss: 1.073.. Test accuracy: 0.625\n",
      "Epoch 94/100.. Train loss: 1.384.. Test loss: 1.069.. Test accuracy: 0.628\n",
      "Epoch 95/100.. Train loss: 1.393.. Test loss: 1.085.. Test accuracy: 0.619\n",
      "Epoch 95/100.. Train loss: 1.369.. Test loss: 1.080.. Test accuracy: 0.625\n",
      "Epoch 95/100.. Train loss: 1.367.. Test loss: 1.081.. Test accuracy: 0.624\n",
      "Epoch 96/100.. Train loss: 1.387.. Test loss: 1.088.. Test accuracy: 0.618\n",
      "Epoch 96/100.. Train loss: 1.379.. Test loss: 1.066.. Test accuracy: 0.626\n",
      "Epoch 96/100.. Train loss: 1.383.. Test loss: 1.068.. Test accuracy: 0.623\n",
      "Epoch 97/100.. Train loss: 1.387.. Test loss: 1.087.. Test accuracy: 0.619\n",
      "Epoch 97/100.. Train loss: 1.392.. Test loss: 1.076.. Test accuracy: 0.624\n",
      "Epoch 97/100.. Train loss: 1.386.. Test loss: 1.074.. Test accuracy: 0.627\n",
      "Epoch 98/100.. Train loss: 1.395.. Test loss: 1.076.. Test accuracy: 0.622\n",
      "Epoch 98/100.. Train loss: 1.383.. Test loss: 1.073.. Test accuracy: 0.628\n",
      "Epoch 98/100.. Train loss: 1.377.. Test loss: 1.089.. Test accuracy: 0.622\n",
      "Epoch 99/100.. Train loss: 1.371.. Test loss: 1.069.. Test accuracy: 0.628\n",
      "Epoch 99/100.. Train loss: 1.375.. Test loss: 1.099.. Test accuracy: 0.615\n",
      "Epoch 99/100.. Train loss: 1.360.. Test loss: 1.067.. Test accuracy: 0.630\n",
      "Epoch 100/100.. Train loss: 1.394.. Test loss: 1.072.. Test accuracy: 0.627\n",
      "Epoch 100/100.. Train loss: 1.374.. Test loss: 1.083.. Test accuracy: 0.624\n",
      "Epoch 100/100.. Train loss: 1.393.. Test loss: 1.094.. Test accuracy: 0.622\n"
     ]
    }
   ],
   "source": [
    "## YOUR CODE HERE ##\n",
    "epochs = 100\n",
    "steps = 0\n",
    "print_every = 250\n",
    "running_loss = 0\n",
    "train_losses, test_losses = [], []\n",
    "\n",
    "for e in range(epochs):\n",
    "    for images, labels in trainloader:\n",
    "        \n",
    "        steps += 1\n",
    "        \n",
    "        images, labels = images.to('cuda'), labels.to('cuda')\n",
    "        \n",
    "        optimizer.zero_grad()\n",
    "        \n",
    "        output_train = model.forward(images)\n",
    "        loss = criterion(output_train, labels)\n",
    "        loss.backward()\n",
    "        optimizer.step()\n",
    "        \n",
    "        running_loss += loss.item()\n",
    "        \n",
    "        if steps % print_every == 0:\n",
    "            \n",
    "            test_loss = 0\n",
    "            accuracy = 0\n",
    "            model.eval()\n",
    "            \n",
    "            with torch.no_grad():\n",
    "                for images, labels in testloader:\n",
    "                    \n",
    "                    images, labels = images.to('cuda'), labels.to('cuda')\n",
    "                    \n",
    "                    output_test = model.forward(images)\n",
    "                    test_loss += criterion(output_test, labels).item()\n",
    "                    ps = torch.exp(output_test)\n",
    "                    top_p, top_class = ps.topk(1, dim = 1)\n",
    "                    equals = top_class == labels.view(*top_class.shape)\n",
    "                    \n",
    "                    accuracy += torch.mean(equals.type(torch.FloatTensor)).item()\n",
    "            \n",
    "            train_losses.append(running_loss/len(trainloader))\n",
    "            test_losses.append(test_loss/len(testloader))\n",
    "            print(f\"Epoch {e+1}/{epochs}.. \"\n",
    "                  f\"Train loss: {running_loss/print_every:.3f}.. \"\n",
    "                  f\"Test loss: {test_loss/len(testloader):.3f}.. \"\n",
    "                  f\"Test accuracy: {accuracy/len(testloader):.3f}\")\n",
    "            running_loss = 0\n",
    "            model.train()"
   ]
  },
  {
   "cell_type": "markdown",
   "metadata": {},
   "source": [
    "Plot the training loss (and validation loss/accuracy, if recorded)."
   ]
  },
  {
   "cell_type": "code",
   "execution_count": 9,
   "metadata": {},
   "outputs": [],
   "source": [
    "%matplotlib inline\n",
    "%config InlineBackend.figure_format = 'retina'\n",
    "\n",
    "import matplotlib.pyplot as plt"
   ]
  },
  {
   "cell_type": "code",
   "execution_count": 10,
   "metadata": {},
   "outputs": [
    {
     "data": {
      "text/plain": [
       "<matplotlib.legend.Legend at 0x7f834c4595f8>"
      ]
     },
     "execution_count": 10,
     "metadata": {},
     "output_type": "execute_result"
    },
    {
     "data": {
      "image/png": "[encoded data removed]",
      "text/plain": [
       "<matplotlib.figure.Figure at 0x7f8356b953c8>"
      ]
     },
     "metadata": {
      "image/png": {
       "height": 250,
       "width": 373
      },
      "needs_background": "light"
     },
     "output_type": "display_data"
    }
   ],
   "source": [
    "## YOUR CODE HERE ##\n",
    "plt.plot(train_losses, label='Training loss')\n",
    "plt.plot(test_losses, label='Validation loss')\n",
    "plt.legend(frameon=False)"
   ]
  },
  {
   "cell_type": "markdown",
   "metadata": {},
   "source": [
    "## Testing your model\n",
    "Using the previously created `DataLoader` for the test set, compute the percentage of correct predictions using the highest probability prediction. \n",
    "\n",
    "If your accuracy is over 70%, great work! \n",
    "This is a hard task to exceed 70% on.\n",
    "\n",
    "If your accuracy is under 45%, you'll need to make improvements.\n",
    "Go back and check your model architecture, loss function, and optimizer to make sure they're appropriate for an image classification task."
   ]
  },
  {
   "cell_type": "code",
   "execution_count": 11,
   "metadata": {},
   "outputs": [
    {
     "name": "stdout",
     "output_type": "stream",
     "text": [
      "Model accuracy on the test set: 62.6493\n"
     ]
    }
   ],
   "source": [
    "## YOUR CODE HERE ##\n",
    "model.eval();\n",
    "accuracy = 0\n",
    "    \n",
    "with torch.no_grad():\n",
    "    for images, labels in testloader:\n",
    "        images, labels = images.to('cuda'), labels.to('cuda')\n",
    "        output=model(images)        \n",
    "        # Calculate accuracy\n",
    "        ps = torch.exp(output)\n",
    "        top_p, top_class = ps.topk(1, dim=1)\n",
    "        equals = top_class == labels.view(*top_class.shape)\n",
    "        accuracy += torch.mean(equals.type(torch.FloatTensor)).item()\n",
    "                    \n",
    "print(f\"Model accuracy on the test set: {accuracy*100/len(testloader):.4f}\")\n",
    "model.train();"
   ]
  },
  {
   "cell_type": "markdown",
   "metadata": {},
   "source": [
    "## Saving your model\n",
    "Using `torch.save`, save your model for future loading."
   ]
  },
  {
   "cell_type": "code",
   "execution_count": 12,
   "metadata": {},
   "outputs": [],
   "source": [
    "## YOUR CODE HERE ##\n",
    "torch.save(model.state_dict(), 'Checkpoint.pth')"
   ]
  },
  {
   "cell_type": "markdown",
   "metadata": {},
   "source": [
    "## Make a Recommendation\n",
    "\n",
    "Based on your evaluation, what is your recommendation on whether to build or buy? Explain your reasoning below.\n",
    "\n",
    "Some things to consider as you formulate your recommendation:\n",
    "* How does your model compare to Detectocorp's model?\n",
    "* How does it compare to the far more advanced solutions in the literature? \n",
    "* What did you do to get the accuracy you achieved? \n",
    "* Is it necessary to improve this accuracy? If so, what sort of work would be involved in improving it?"
   ]
  },
  {
   "cell_type": "markdown",
   "metadata": {},
   "source": [
    "after building this model I think if the company I am working for have time for me to make the AI model I could come very close if not beat Detectocorp's model in a matter of almost 16 hours of work my model got a 62.65% accuracy on the test set which is good. If the company I am working for needs the model ASAP and needs it to be as accurate as possible I would recommend Detectocorp's model if there is some time availabe I belive that my model will get really close to theirs."
   ]
  },
  {
   "cell_type": "markdown",
   "metadata": {},
   "source": [
    "what I did here was that I used transfare learning. I used the vgg11_bn model and added a classifier to it as it is defined in the code cell above. regarding the learning rate it was a process of trial and error plus searching for the best range of learning rate on google to make sure I was making progress."
   ]
  },
  {
   "cell_type": "markdown",
   "metadata": {},
   "source": [
    "## Submit Your Project\n",
    "\n",
    "When you are finished editing the notebook and are ready to turn it in, simply click the **SUBMIT PROJECT** button in the lower right.\n",
    "\n",
    "Once you submit your project, we'll review your work and give you feedback if there's anything that you need to work on. If you'd like to see the exact points that your reviewer will check for when looking at your work, you can have a look over the project [rubric](https://review.udacity.com/#!/rubrics/3077/view)."
   ]
  }
 ],
 "metadata": {
  "kernelspec": {
   "display_name": "Python 3 (ipykernel)",
   "language": "python",
   "name": "python3"
  },
  "language_info": {
   "codemirror_mode": {
    "name": "ipython",
    "version": 3
   },
   "file_extension": ".py",
   "mimetype": "text/x-python",
   "name": "python",
   "nbconvert_exporter": "python",
   "pygments_lexer": "ipython3",
   "version": "3.10.2"
  }
 },
 "nbformat": 4,
 "nbformat_minor": 4
}
